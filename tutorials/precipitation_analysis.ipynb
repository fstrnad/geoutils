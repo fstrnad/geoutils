{
 "cells": [
  {
   "cell_type": "markdown",
   "metadata": {},
   "source": [
    "# Precipitation analysis tutorial\n",
    "In this tutorial we show various methods how precipitation can be investigated.\n",
    "Often looking alone at the precipitation variable and patterns does not help explaining these patterns.\n",
    "Here we show how it looks like also for OLR, wind fields and MSE."
   ]
  },
  {
   "cell_type": "code",
   "execution_count": 1,
   "metadata": {},
   "outputs": [],
   "source": [
    "# load libraries and files\n",
    "import xarray as xr\n",
    "import geoutils.utils.file_utils as fut\n",
    "import geoutils.utils.general_utils as gut\n",
    "import geoutils.utils.statistic_utils as sut\n",
    "import geoutils.utils.spatial_utils as sput\n",
    "import geoutils.utils.time_utils as tu\n",
    "import geoutils.tsa.time_series_analysis as tsa\n",
    "import geoutils.geodata.base_dataset as bds\n",
    "import geoutils.geodata.wind_dataset as wds\n",
    "import geoutils.plotting.plots as cplt\n",
    "from importlib import reload\n",
    "\n",
    "output_dir = \"/home/strnad/data/\"\n",
    "data_dir = \"/home/strnad/data/\"\n",
    "plot_dir = \"/home/strnad/data/plots/tutorials/precipitation/\"\n"
   ]
  },
  {
   "cell_type": "code",
   "execution_count": null,
   "metadata": {},
   "outputs": [],
   "source": []
  }
 ],
 "metadata": {
  "kernelspec": {
   "display_name": "climnet",
   "language": "python",
   "name": "python3"
  },
  "language_info": {
   "codemirror_mode": {
    "name": "ipython",
    "version": 3
   },
   "file_extension": ".py",
   "mimetype": "text/x-python",
   "name": "python",
   "nbconvert_exporter": "python",
   "pygments_lexer": "ipython3",
   "version": "3.9.undefined"
  }
 },
 "nbformat": 4,
 "nbformat_minor": 2
}
